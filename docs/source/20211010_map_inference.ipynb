{
 "cells": [
  {
   "cell_type": "markdown",
   "id": "6cb61191-ccff-484e-bd66-44f0f1ffbb24",
   "metadata": {},
   "source": [
    "## Transition map inference"
   ]
  },
  {
   "cell_type": "markdown",
   "id": "916ef482-1161-47d3-88a4-ee215df54c9e",
   "metadata": {},
   "source": [
    "Below, we illustrate transition map inference from different methods in cospar. Once computed, they can be analyzed and visualized later. "
   ]
  },
  {
   "cell_type": "code",
   "execution_count": 1,
   "id": "a2222196-6473-47e6-a0e0-3eef4ed3b739",
   "metadata": {},
   "outputs": [],
   "source": [
    "import cospar as cs"
   ]
  },
  {
   "cell_type": "code",
   "execution_count": 2,
   "id": "3301bf9b-1d59-4827-82a7-93e978cb28a8",
   "metadata": {},
   "outputs": [
    {
     "name": "stdout",
     "output_type": "stream",
     "text": [
      "Running cospar 0.2.0 (python 3.8.12) on 2022-02-08 19:17.\n"
     ]
    }
   ],
   "source": [
    "cs.logging.print_version()\n",
    "cs.settings.verbosity=2 #range: 0 (error),1 (warning),2 (info),3 (hint). \n",
    "cs.settings.set_figure_params(format='png',figsize=[4,3.5],dpi=75,fontsize=14,pointsize=3) "
   ]
  },
  {
   "cell_type": "code",
   "execution_count": 3,
   "id": "c564b19f-7ca7-495d-8229-60307ab0b9f4",
   "metadata": {},
   "outputs": [],
   "source": [
    "# Each dataset should have its folder to avoid conflicts.\n",
    "cs.settings.data_path='data_cospar' \n",
    "cs.settings.figure_path='fig_cospar' \n",
    "cs.hf.set_up_folders()"
   ]
  },
  {
   "cell_type": "markdown",
   "id": "c156448d-0581-408e-b237-81ef961a1261",
   "metadata": {},
   "source": [
    "Load an existing dataset. (If you have pre-processed data, you can load it with `cs.hf.read(file_name)`.)"
   ]
  },
  {
   "cell_type": "code",
   "execution_count": 4,
   "id": "bae0571c-d672-4e04-ad2b-0a770162251f",
   "metadata": {},
   "outputs": [],
   "source": [
    "adata_orig=cs.datasets.hematopoiesis_subsampled()"
   ]
  },
  {
   "cell_type": "markdown",
   "id": "b8d6d5f8-2bf8-47b3-9c4e-571a2524de10",
   "metadata": {},
   "source": [
    "### Transition map from clones across multiple time points"
   ]
  },
  {
   "cell_type": "markdown",
   "id": "3c6fdd02-95ca-416b-abda-2c2a449ff77f",
   "metadata": {},
   "source": [
    "This method utilizes clones with multiple time points. It is the core algorithm for the CoSpar package. The first time it runs, it will compute the similarity matrix at different smooth depth and save them. Then, it will infer the transition map. Some key parameters:\n",
    "    \n",
    "* **clonal_time_points** (`list`; default: all): List of time points with clonal data that you want to perform inference.\n",
    "    \n",
    "* **later_time_point** (`str`; default: None): If not set, CoSpar learns a transition map between neighboring time points specified by clonal_time_points, i.e., transitions from day 2 to day 4, and from day 4 to day 6 if clonal_time_points=['2','4','6']. Ohterwise, it learns transitions from any of `clonal_time_points` to the `later_time_point`.\n",
    "    \n",
    "* **smooth_array** (`list`; default: [15,10,5]): List of smooth depth at initial runs of iteration. Suppose that it has a length N. For iteration n<N, the n-th entry of smooth_array determines the kernel exponent to build the S matrix at the n-th iteration. When n>N, we use the last entry of smooth_array to compute the S matrix. We recommend starting with more smoothing depth and gradually reduce the depth, as inspired by simulated annealing. Data with higher clonal dispersion should start with higher smoothing depth. The final depth should depend on the manifold itself. For fewer cells, it results in a small KNN graph, and a small final depth should be used. We recommend to use a number at the multiple of 5 for computational efficiency i.e., smooth_array=[20, 15, 10, 5], or [20,15,10].\n",
    "    \n",
    "* **sparsity_threshold** (`float`; default: 0.1): sparsity threshold to remove spurious transitions in the updated transition map, in the range [0,1].\n",
    "\n",
    "* **max_iter_N** (`int`; default: 5): maximum number of iterations in refining the transition map. We found that 3 iterations are sufficient for tested datasets.\n",
    "\n",
    "* **epsilon_converge** (`float`; default: 0.05): Iteration is considered converged when the correlation R between maps from consecutive iteration satisfies: R>1-`epsilon_converge`.  "
   ]
  },
  {
   "cell_type": "markdown",
   "id": "b87a60db-1bda-4315-8526-6829b76198c0",
   "metadata": {},
   "source": [
    "It takes ~3 mins to run for the first time, and ~20 s for later runs. "
   ]
  },
  {
   "cell_type": "code",
   "execution_count": 5,
   "id": "e40e7d75-f1a1-4c0d-9c36-0714b61ff47f",
   "metadata": {
    "scrolled": true
   },
   "outputs": [
    {
     "name": "stderr",
     "output_type": "stream",
     "text": [
      "Trying to set attribute `.uns` of view, copying.\n"
     ]
    },
    {
     "name": "stdout",
     "output_type": "stream",
     "text": [
      "------Compute the full Similarity matrix if necessary------\n",
      "------Infer transition map between initial time points and the later time one------\n",
      "--------Current initial time point: 2--------\n",
      "Step 1: Select time points\n",
      "Number of multi-time clones post selection: 185\n",
      "Step 2: Optimize the transition map recursively\n",
      "Load pre-computed similarity matrix\n",
      "Iteration 1, Use smooth_round=20\n",
      "Iteration 2, Use smooth_round=15\n",
      "Iteration 3, Use smooth_round=10\n",
      "Iteration 4, Use smooth_round=5\n",
      "Convergence (CoSpar, iter_N=4): corr(previous_T, current_T)=0.942\n",
      "Iteration 5, Use smooth_round=5\n",
      "Convergence (CoSpar, iter_N=5): corr(previous_T, current_T)=0.996\n",
      "--------Current initial time point: 4--------\n",
      "Step 1: Select time points\n",
      "Number of multi-time clones post selection: 500\n",
      "Step 2: Optimize the transition map recursively\n",
      "Load pre-computed similarity matrix\n",
      "Iteration 1, Use smooth_round=20\n",
      "Iteration 2, Use smooth_round=15\n",
      "Iteration 3, Use smooth_round=10\n",
      "Iteration 4, Use smooth_round=5\n",
      "Convergence (CoSpar, iter_N=4): corr(previous_T, current_T)=0.956\n",
      "Iteration 5, Use smooth_round=5\n",
      "Convergence (CoSpar, iter_N=5): corr(previous_T, current_T)=0.996\n",
      "-----------Total used time: 19.377027988433838 s ------------\n"
     ]
    }
   ],
   "source": [
    "adata=cs.tmap.infer_Tmap_from_multitime_clones(adata_orig,clonal_time_points=['2','4'], \n",
    "                    later_time_point='6',smooth_array=[20,15,10,5],\n",
    "          sparsity_threshold=0.1,intraclone_threshold=0.2,max_iter_N=10,epsilon_converge=0.01)\n"
   ]
  },
  {
   "cell_type": "markdown",
   "id": "f81edfe0-c691-4897-b842-d3c39ed2b8fc",
   "metadata": {},
   "source": [
    "We can see that after this step, we have two maps: `'transition_map'` and `'intraclone_transition_map'`. Both of them can be used \n",
    "    for downstream analysis. "
   ]
  },
  {
   "cell_type": "code",
   "execution_count": 6,
   "id": "f994136d-244d-45f4-a2b7-c75f18ed8db1",
   "metadata": {
    "scrolled": true
   },
   "outputs": [
    {
     "data": {
      "text/plain": [
       "['transition_map', 'intraclone_transition_map']"
      ]
     },
     "execution_count": 6,
     "metadata": {},
     "output_type": "execute_result"
    }
   ],
   "source": [
    "cs.hf.check_available_map(adata)\n",
    "adata.uns['available_map']"
   ]
  },
  {
   "cell_type": "markdown",
   "id": "bc23ddbd-311a-46c4-b1e7-c10fd6503cdd",
   "metadata": {},
   "source": [
    "### Transition map from end-point clones, or without clones"
   ]
  },
  {
   "cell_type": "markdown",
   "id": "ca10698b-1a36-4543-a122-148dab9e4979",
   "metadata": {},
   "source": [
    "After initializing the map by either the `OT` or `HighVar` method, We jointly infer the likely clonal ancestors and the corresponding transition map between given time points. You need to choose the initialization method and set the corresponding parameters.\n",
    "\n",
    "* **initialize_method**=`OT`: using optimal transport. Key parameters: \n",
    "        \n",
    "    * **OT_epsilon** (`float`; default: 0.02): the entropic regularization \n",
    "    \n",
    "    * **OT_cost** ({`GED`, `SPD`}, default: `SPD`): method for computing the cost function. `GED` uses simple gene expression distances; it is faster. `SPD` uses the shortest path distances; it is slower but often more accurate. \n",
    "\n",
    "* **initialize_method**=`HighVar`: `HighVar` assumes that cells similar in gene expression across time points share clonal origin. It converts highly variable genes into pseudo multi-time clones and runs ``cs.tmap.infer_Tmap_from_multitime_clones`` to construct the map. We find `HighVar` performs better than `OT`, especially when there are large differentiation effects over the observed time window, or batch effects.\n",
    "\n",
    "    * **HighVar_gene_pctl** (`int`; default: 85): percentile threshold to select highly variable genes. Range: [0,100]. A higher value selects more variable genes. \n",
    "            \n",
    "* **max_iter_N** (`list`; default: [3,5]): a list of two entries, representing the maximum iteration number for joint optimization and CoSpar core function, respectively. \n",
    "    \n",
    "* **epsilon_converge** (`list`; default: [0.05,0.05]), a list of two entries, indicating the map convergence threshold for joint optimization and CoSpar core function, respectively. "
   ]
  },
  {
   "cell_type": "markdown",
   "id": "2d5de16e-23e0-4d79-93a9-57fc6ad6d3d4",
   "metadata": {},
   "source": [
    "Infer transition map from a single clonal time point (using `OT`), please run ( ~ 1 min): "
   ]
  },
  {
   "cell_type": "code",
   "execution_count": 7,
   "id": "57297ecc-0754-4aac-b8ee-d4f1273f4ed2",
   "metadata": {
    "scrolled": true
   },
   "outputs": [
    {
     "name": "stderr",
     "output_type": "stream",
     "text": [
      "Trying to set attribute `.uns` of view, copying.\n",
      "Trying to set attribute `.uns` of view, copying.\n"
     ]
    },
    {
     "name": "stdout",
     "output_type": "stream",
     "text": [
      "--------Infer transition map between initial time points and the later time one-------\n",
      "--------Current initial time point: 4--------\n",
      "Step 0: Pre-processing and sub-sampling cells-------\n",
      "Step 1: Use OT method for initialization-------\n",
      "Finishing computing gene expression distance, used time 6.2248289585113525\n",
      "Compute new custom OT matrix\n",
      "Use uniform growth rate\n",
      "OT solver: duality_gap\n",
      "Finishing computing optial transport map, used time 36.00060701370239\n",
      "Step 2: Jointly optimize the transition map and the initial clonal states-------\n",
      "-----JointOpt Iteration 1: Infer initial clonal structure\n",
      "-----JointOpt Iteration 1: Update the transition map by CoSpar\n",
      "Load pre-computed similarity matrix\n",
      "Iteration 1, Use smooth_round=20\n",
      "Iteration 2, Use smooth_round=15\n",
      "Iteration 3, Use smooth_round=10\n",
      "Iteration 4, Use smooth_round=5\n",
      "Convergence (CoSpar, iter_N=4): corr(previous_T, current_T)=0.961\n",
      "Convergence (JointOpt, iter_N=1): corr(previous_T, current_T)=0.275\n",
      "Finishing Joint Optimization, used time 11.890204191207886\n",
      "-----------Total used time: 54.800551891326904 s ------------\n"
     ]
    }
   ],
   "source": [
    "adata_1=cs.tmap.infer_Tmap_from_one_time_clones(adata_orig,initial_time_points=['4'],\n",
    "        later_time_point='6',initialize_method='OT',OT_cost='GED',\n",
    "                smooth_array=[20,15,10,5],sparsity_threshold=0.1)"
   ]
  },
  {
   "cell_type": "code",
   "execution_count": 8,
   "id": "d6d1eff4-e4a4-44cb-b9b3-50af48e3f833",
   "metadata": {},
   "outputs": [
    {
     "data": {
      "text/plain": [
       "['transition_map', 'OT_transition_map']"
      ]
     },
     "execution_count": 8,
     "metadata": {},
     "output_type": "execute_result"
    }
   ],
   "source": [
    "cs.hf.check_available_map(adata_1)\n",
    "adata_1.uns['available_map']"
   ]
  },
  {
   "cell_type": "markdown",
   "id": "19adc76c-757f-4dff-8a27-4e58585a51fe",
   "metadata": {},
   "source": [
    "Infer transition map from state information alone (using `HighVar`): (it takes ~ 2 mins)"
   ]
  },
  {
   "cell_type": "code",
   "execution_count": 9,
   "id": "cb497a6a-aee3-485b-b9e1-e72c40ae5eb4",
   "metadata": {},
   "outputs": [
    {
     "name": "stdout",
     "output_type": "stream",
     "text": [
      "Step I: Generate pseudo clones where each cell has a unique barcode-----\n"
     ]
    },
    {
     "name": "stderr",
     "output_type": "stream",
     "text": [
      "Trying to set attribute `.uns` of view, copying.\n",
      "Trying to set attribute `.uns` of view, copying.\n"
     ]
    },
    {
     "name": "stdout",
     "output_type": "stream",
     "text": [
      "Step II: Perform joint optimization-----\n",
      "--------Infer transition map between initial time points and the later time one-------\n",
      "--------Current initial time point: 4--------\n",
      "Step 0: Pre-processing and sub-sampling cells-------\n",
      "Step 1: Use the HighVar method for initialization-------\n",
      "Step a: find the commonly shared highly variable genes------\n",
      "Highly varable gene number: 2136 (t1); 2245 (t2). Common set: 978\n",
      "Step b: convert the shared highly variable genes into clonal info------\n"
     ]
    },
    {
     "name": "stderr",
     "output_type": "stream",
     "text": [
      " 87%|████████▋ | 853/978 [00:00<00:00, 5630.14it/s]\n"
     ]
    },
    {
     "name": "stdout",
     "output_type": "stream",
     "text": [
      "Total used genes=853 (no cells left)\n",
      "Step c: compute the transition map based on clonal info from highly variable genes------\n",
      "Load pre-computed similarity matrix\n",
      "Iteration 1, Use smooth_round=20\n",
      "Iteration 2, Use smooth_round=15\n",
      "Iteration 3, Use smooth_round=10\n",
      "Iteration 4, Use smooth_round=5\n",
      "Convergence (CoSpar, iter_N=4): corr(previous_T, current_T)=0.966\n",
      "Iteration 5, Use smooth_round=5\n",
      "Convergence (CoSpar, iter_N=5): corr(previous_T, current_T)=0.988\n",
      "Iteration 6, Use smooth_round=5\n",
      "Convergence (CoSpar, iter_N=6): corr(previous_T, current_T)=0.996\n",
      "Finishing initialization using HighVar, used time 16.57118797302246\n",
      "Step 2: Jointly optimize the transition map and the initial clonal states-------\n",
      "-----JointOpt Iteration 1: Infer initial clonal structure\n",
      "-----JointOpt Iteration 1: Update the transition map by CoSpar\n",
      "Load pre-computed similarity matrix\n",
      "Iteration 1, Use smooth_round=20\n",
      "Iteration 2, Use smooth_round=15\n",
      "Iteration 3, Use smooth_round=10\n",
      "Iteration 4, Use smooth_round=5\n",
      "Convergence (CoSpar, iter_N=4): corr(previous_T, current_T)=0.934\n",
      "Iteration 5, Use smooth_round=5\n",
      "Convergence (CoSpar, iter_N=5): corr(previous_T, current_T)=0.998\n",
      "Convergence (JointOpt, iter_N=1): corr(previous_T, current_T)=0.784\n",
      "-----JointOpt Iteration 2: Infer initial clonal structure\n",
      "-----JointOpt Iteration 2: Update the transition map by CoSpar\n",
      "Load pre-computed similarity matrix\n",
      "Iteration 1, Use smooth_round=20\n",
      "Iteration 2, Use smooth_round=15\n",
      "Iteration 3, Use smooth_round=10\n",
      "Iteration 4, Use smooth_round=5\n",
      "Convergence (CoSpar, iter_N=4): corr(previous_T, current_T)=0.936\n",
      "Iteration 5, Use smooth_round=5\n",
      "Convergence (CoSpar, iter_N=5): corr(previous_T, current_T)=0.997\n",
      "Convergence (JointOpt, iter_N=2): corr(previous_T, current_T)=0.966\n",
      "-----JointOpt Iteration 3: Infer initial clonal structure\n",
      "-----JointOpt Iteration 3: Update the transition map by CoSpar\n",
      "Load pre-computed similarity matrix\n",
      "Iteration 1, Use smooth_round=20\n",
      "Iteration 2, Use smooth_round=15\n",
      "Iteration 3, Use smooth_round=10\n",
      "Iteration 4, Use smooth_round=5\n",
      "Convergence (CoSpar, iter_N=4): corr(previous_T, current_T)=0.937\n",
      "Iteration 5, Use smooth_round=5\n",
      "Convergence (CoSpar, iter_N=5): corr(previous_T, current_T)=0.994\n",
      "Convergence (JointOpt, iter_N=3): corr(previous_T, current_T)=0.97\n",
      "-----JointOpt Iteration 4: Infer initial clonal structure\n",
      "-----JointOpt Iteration 4: Update the transition map by CoSpar\n",
      "Load pre-computed similarity matrix\n",
      "Iteration 1, Use smooth_round=20\n",
      "Iteration 2, Use smooth_round=15\n",
      "Iteration 3, Use smooth_round=10\n",
      "Iteration 4, Use smooth_round=5\n",
      "Convergence (CoSpar, iter_N=4): corr(previous_T, current_T)=0.937\n",
      "Iteration 5, Use smooth_round=5\n",
      "Convergence (CoSpar, iter_N=5): corr(previous_T, current_T)=0.995\n",
      "Convergence (JointOpt, iter_N=4): corr(previous_T, current_T)=0.968\n",
      "-----JointOpt Iteration 5: Infer initial clonal structure\n",
      "-----JointOpt Iteration 5: Update the transition map by CoSpar\n",
      "Load pre-computed similarity matrix\n",
      "Iteration 1, Use smooth_round=20\n",
      "Iteration 2, Use smooth_round=15\n",
      "Iteration 3, Use smooth_round=10\n",
      "Iteration 4, Use smooth_round=5\n",
      "Convergence (CoSpar, iter_N=4): corr(previous_T, current_T)=0.938\n",
      "Iteration 5, Use smooth_round=5\n",
      "Convergence (CoSpar, iter_N=5): corr(previous_T, current_T)=0.997\n",
      "Convergence (JointOpt, iter_N=5): corr(previous_T, current_T)=0.973\n",
      "-----JointOpt Iteration 6: Infer initial clonal structure\n",
      "-----JointOpt Iteration 6: Update the transition map by CoSpar\n",
      "Load pre-computed similarity matrix\n",
      "Iteration 1, Use smooth_round=20\n",
      "Iteration 2, Use smooth_round=15\n",
      "Iteration 3, Use smooth_round=10\n",
      "Iteration 4, Use smooth_round=5\n",
      "Convergence (CoSpar, iter_N=4): corr(previous_T, current_T)=0.937\n",
      "Iteration 5, Use smooth_round=5\n",
      "Convergence (CoSpar, iter_N=5): corr(previous_T, current_T)=0.997\n",
      "Convergence (JointOpt, iter_N=6): corr(previous_T, current_T)=0.969\n",
      "-----JointOpt Iteration 7: Infer initial clonal structure\n",
      "-----JointOpt Iteration 7: Update the transition map by CoSpar\n",
      "Load pre-computed similarity matrix\n",
      "Iteration 1, Use smooth_round=20\n",
      "Iteration 2, Use smooth_round=15\n",
      "Iteration 3, Use smooth_round=10\n",
      "Iteration 4, Use smooth_round=5\n",
      "Convergence (CoSpar, iter_N=4): corr(previous_T, current_T)=0.935\n",
      "Iteration 5, Use smooth_round=5\n",
      "Convergence (CoSpar, iter_N=5): corr(previous_T, current_T)=0.995\n",
      "Convergence (JointOpt, iter_N=7): corr(previous_T, current_T)=0.971\n",
      "-----JointOpt Iteration 8: Infer initial clonal structure\n",
      "-----JointOpt Iteration 8: Update the transition map by CoSpar\n",
      "Load pre-computed similarity matrix\n",
      "Iteration 1, Use smooth_round=20\n",
      "Iteration 2, Use smooth_round=15\n",
      "Iteration 3, Use smooth_round=10\n",
      "Iteration 4, Use smooth_round=5\n",
      "Convergence (CoSpar, iter_N=4): corr(previous_T, current_T)=0.936\n",
      "Iteration 5, Use smooth_round=5\n",
      "Convergence (CoSpar, iter_N=5): corr(previous_T, current_T)=0.997\n",
      "Convergence (JointOpt, iter_N=8): corr(previous_T, current_T)=0.976\n",
      "-----JointOpt Iteration 9: Infer initial clonal structure\n",
      "-----JointOpt Iteration 9: Update the transition map by CoSpar\n",
      "Load pre-computed similarity matrix\n",
      "Iteration 1, Use smooth_round=20\n",
      "Iteration 2, Use smooth_round=15\n",
      "Iteration 3, Use smooth_round=10\n",
      "Iteration 4, Use smooth_round=5\n",
      "Convergence (CoSpar, iter_N=4): corr(previous_T, current_T)=0.936\n",
      "Iteration 5, Use smooth_round=5\n",
      "Convergence (CoSpar, iter_N=5): corr(previous_T, current_T)=0.997\n",
      "Convergence (JointOpt, iter_N=9): corr(previous_T, current_T)=0.977\n",
      "-----JointOpt Iteration 10: Infer initial clonal structure\n",
      "-----JointOpt Iteration 10: Update the transition map by CoSpar\n",
      "Load pre-computed similarity matrix\n",
      "Iteration 1, Use smooth_round=20\n",
      "Iteration 2, Use smooth_round=15\n",
      "Iteration 3, Use smooth_round=10\n",
      "Iteration 4, Use smooth_round=5\n",
      "Convergence (CoSpar, iter_N=4): corr(previous_T, current_T)=0.937\n",
      "Iteration 5, Use smooth_round=5\n",
      "Convergence (CoSpar, iter_N=5): corr(previous_T, current_T)=0.996\n",
      "Convergence (JointOpt, iter_N=10): corr(previous_T, current_T)=0.975\n",
      "Finishing Joint Optimization, used time 242.97642278671265\n",
      "-----------Total used time: 260.5958061218262 s ------------\n"
     ]
    }
   ],
   "source": [
    "adata_2=cs.tmap.infer_Tmap_from_state_info_alone(adata_orig,initial_time_points=['4'],\n",
    "        later_time_point='6',initialize_method='HighVar',HighVar_gene_pctl=85,max_iter_N=[10,10],\n",
    "    epsilon_converge=[0.01,0.01],smooth_array=[20,15,10,5],sparsity_threshold=0.1)"
   ]
  },
  {
   "cell_type": "code",
   "execution_count": 10,
   "id": "995163e8-497c-4074-8a6e-52230c44cd96",
   "metadata": {},
   "outputs": [
    {
     "data": {
      "text/plain": [
       "['transition_map', 'HighVar_transition_map']"
      ]
     },
     "execution_count": 10,
     "metadata": {},
     "output_type": "execute_result"
    }
   ],
   "source": [
    "cs.hf.check_available_map(adata_2)\n",
    "adata_2.uns['available_map']"
   ]
  },
  {
   "cell_type": "markdown",
   "id": "cdeda952-b335-4358-907d-d657805f87b0",
   "metadata": {},
   "source": [
    "### Transition map from clonal data alone, without state information"
   ]
  },
  {
   "cell_type": "markdown",
   "id": "7eb02377-9bef-412e-ab8c-01d6067f5c18",
   "metadata": {},
   "source": [
    "As a comparision, we can also learn the transition map using clonal information alone:"
   ]
  },
  {
   "cell_type": "code",
   "execution_count": 11,
   "id": "eca31ef0-572b-47c5-a17e-64dde57e2deb",
   "metadata": {},
   "outputs": [
    {
     "name": "stderr",
     "output_type": "stream",
     "text": [
      "Trying to set attribute `.uns` of view, copying.\n"
     ]
    },
    {
     "name": "stdout",
     "output_type": "stream",
     "text": [
      "Infer transition map between initial time points and the later time point.\n",
      "--------Current initial time point: 2--------\n",
      "Number of multi-time clones post selection: 185\n",
      "Use only uni-potent clones (weinreb et al., 2020)\n",
      "Used uni-potent clone fraction 0.6162162162162163\n",
      "--------Current initial time point: 4--------\n",
      "Number of multi-time clones post selection: 500\n",
      "Use only uni-potent clones (weinreb et al., 2020)\n",
      "Used uni-potent clone fraction 0.538\n"
     ]
    }
   ],
   "source": [
    "# We use the Weinreb method, which selects uni-potent clones based on a pre-defined list of fates.\n",
    "selected_fates=['Baso', 'Ccr7_DC', 'Eos', 'Erythroid', 'Lymphoid', 'Mast', 'Meg', 'Monocyte', 'Neu_Mon', 'Neutrophil', 'pDC']\n",
    "\n",
    "adata_3=cs.tmap.infer_Tmap_from_clonal_info_alone(adata_orig,method='weinreb',later_time_point='6',selected_fates=selected_fates)"
   ]
  },
  {
   "cell_type": "code",
   "execution_count": 12,
   "id": "428bbfe2-5ff2-416e-8e2b-a87e93ad948a",
   "metadata": {},
   "outputs": [
    {
     "data": {
      "text/plain": [
       "['clonal_transition_map']"
      ]
     },
     "execution_count": 12,
     "metadata": {},
     "output_type": "execute_result"
    }
   ],
   "source": [
    "cs.hf.check_available_map(adata_3)\n",
    "adata_3.uns['available_map']"
   ]
  },
  {
   "cell_type": "markdown",
   "id": "50de2f1c-e8d4-4d11-a608-8d0473484e5a",
   "metadata": {},
   "source": [
    "### Saving maps"
   ]
  },
  {
   "cell_type": "code",
   "execution_count": 13,
   "id": "ebb15efb-42e8-4c3e-b52f-331d5edeaa74",
   "metadata": {},
   "outputs": [
    {
     "name": "stdout",
     "output_type": "stream",
     "text": [
      "Saved file: data_cospar/LARRY_sp500_ranking1_MultiTimeClone_Later_FullSpace0_t*2*4*6_adata_with_transition_map.h5ad\n"
     ]
    }
   ],
   "source": [
    "cs.hf.save_map(adata)"
   ]
  },
  {
   "cell_type": "markdown",
   "id": "0f11091b-56d0-4b83-92fe-2e47c4b2a0c7",
   "metadata": {},
   "source": [
    "It can be loaded again with `adata=cs.hf.read(file_path)`"
   ]
  }
 ],
 "metadata": {
  "interpreter": {
   "hash": "24329dc610456428393729e6b5b108a645670ce2830a84237021d8f69ada8d21"
  },
  "kernelspec": {
   "display_name": "CoSpar_test",
   "language": "python",
   "name": "python3"
  },
  "language_info": {
   "codemirror_mode": {
    "name": "ipython",
    "version": 3
   },
   "file_extension": ".py",
   "mimetype": "text/x-python",
   "name": "python",
   "nbconvert_exporter": "python",
   "pygments_lexer": "ipython3",
   "version": "3.8.12"
  }
 },
 "nbformat": 4,
 "nbformat_minor": 5
}
