{
 "cells": [
  {
   "cell_type": "markdown",
   "id": "a2d0b6e1",
   "metadata": {},
   "source": [
    "# Loading data"
   ]
  },
  {
   "cell_type": "markdown",
   "id": "ee37d33a",
   "metadata": {},
   "source": [
    "We provide a simple guide in how to load your own data and initialize the adata object for downstream analysis. This tutorial assumes that the files are either in txt or mtx format. After running this pipeline, please see the folder test_data for how exactly each data is stored."
   ]
  },
  {
   "cell_type": "markdown",
   "id": "6feeed7f",
   "metadata": {},
   "source": [
    "For how to convert the clonal barcode fastq file into cell-by-clone matrix or other formats, please consult https://github.com/AllonKleinLab/LARRY"
   ]
  },
  {
   "cell_type": "code",
   "execution_count": 1,
   "id": "7cbcc0f0",
   "metadata": {},
   "outputs": [],
   "source": [
    "import cospar as cs\n",
    "import pandas as pd\n",
    "import scipy.io as sio\n",
    "import numpy as np"
   ]
  },
  {
   "cell_type": "code",
   "execution_count": 2,
   "id": "8e9bf6c2",
   "metadata": {},
   "outputs": [
    {
     "name": "stdout",
     "output_type": "stream",
     "text": [
      "Running cospar 0.1.7 (python 3.6.13) on 2021-05-31 23:02.\n"
     ]
    }
   ],
   "source": [
    "cs.logging.print_version()"
   ]
  },
  {
   "cell_type": "markdown",
   "id": "c62df340",
   "metadata": {},
   "source": [
    "Download raw data"
   ]
  },
  {
   "cell_type": "code",
   "execution_count": 3,
   "id": "2853ca0b",
   "metadata": {},
   "outputs": [],
   "source": [
    "cs.settings.data_path='test_data' # This name should be exactly 'text_data' \n",
    "cs.datasets.raw_data_for_import_exercise()"
   ]
  },
  {
   "cell_type": "markdown",
   "id": "eb06c072",
   "metadata": {},
   "source": [
    "## Import method A\n",
    "Assuming that the X_clone data is stored in mtx format"
   ]
  },
  {
   "cell_type": "code",
   "execution_count": 4,
   "id": "a22bde21",
   "metadata": {},
   "outputs": [
    {
     "data": {
      "text/html": [
       "<div>\n",
       "<style scoped>\n",
       "    .dataframe tbody tr th:only-of-type {\n",
       "        vertical-align: middle;\n",
       "    }\n",
       "\n",
       "    .dataframe tbody tr th {\n",
       "        vertical-align: top;\n",
       "    }\n",
       "\n",
       "    .dataframe thead th {\n",
       "        text-align: right;\n",
       "    }\n",
       "</style>\n",
       "<table border=\"1\" class=\"dataframe\">\n",
       "  <thead>\n",
       "    <tr style=\"text-align: right;\">\n",
       "      <th></th>\n",
       "      <th>Cell_ID</th>\n",
       "    </tr>\n",
       "  </thead>\n",
       "  <tbody>\n",
       "    <tr>\n",
       "      <th>0</th>\n",
       "      <td>cell_10</td>\n",
       "    </tr>\n",
       "    <tr>\n",
       "      <th>1</th>\n",
       "      <td>cell_13</td>\n",
       "    </tr>\n",
       "    <tr>\n",
       "      <th>2</th>\n",
       "      <td>cell_18</td>\n",
       "    </tr>\n",
       "    <tr>\n",
       "      <th>3</th>\n",
       "      <td>cell_32</td>\n",
       "    </tr>\n",
       "    <tr>\n",
       "      <th>4</th>\n",
       "      <td>cell_70</td>\n",
       "    </tr>\n",
       "  </tbody>\n",
       "</table>\n",
       "</div>"
      ],
      "text/plain": [
       "   Cell_ID\n",
       "0  cell_10\n",
       "1  cell_13\n",
       "2  cell_18\n",
       "3  cell_32\n",
       "4  cell_70"
      ]
     },
     "execution_count": 4,
     "metadata": {},
     "output_type": "execute_result"
    }
   ],
   "source": [
    "df_cell_id=pd.read_csv(f'{cs.settings.data_path}/cell_id.txt')\n",
    "df_cell_id.head()"
   ]
  },
  {
   "cell_type": "code",
   "execution_count": 5,
   "id": "7ffe0861",
   "metadata": {},
   "outputs": [
    {
     "data": {
      "text/html": [
       "<div>\n",
       "<style scoped>\n",
       "    .dataframe tbody tr th:only-of-type {\n",
       "        vertical-align: middle;\n",
       "    }\n",
       "\n",
       "    .dataframe tbody tr th {\n",
       "        vertical-align: top;\n",
       "    }\n",
       "\n",
       "    .dataframe thead th {\n",
       "        text-align: right;\n",
       "    }\n",
       "</style>\n",
       "<table border=\"1\" class=\"dataframe\">\n",
       "  <thead>\n",
       "    <tr style=\"text-align: right;\">\n",
       "      <th></th>\n",
       "      <th>gene_names</th>\n",
       "    </tr>\n",
       "  </thead>\n",
       "  <tbody>\n",
       "    <tr>\n",
       "      <th>0</th>\n",
       "      <td>0610009L18Rik</td>\n",
       "    </tr>\n",
       "    <tr>\n",
       "      <th>1</th>\n",
       "      <td>0610037L13Rik</td>\n",
       "    </tr>\n",
       "    <tr>\n",
       "      <th>2</th>\n",
       "      <td>1110012L19Rik</td>\n",
       "    </tr>\n",
       "    <tr>\n",
       "      <th>3</th>\n",
       "      <td>1110020A21Rik</td>\n",
       "    </tr>\n",
       "    <tr>\n",
       "      <th>4</th>\n",
       "      <td>1110028F11Rik</td>\n",
       "    </tr>\n",
       "  </tbody>\n",
       "</table>\n",
       "</div>"
      ],
      "text/plain": [
       "      gene_names\n",
       "0  0610009L18Rik\n",
       "1  0610037L13Rik\n",
       "2  1110012L19Rik\n",
       "3  1110020A21Rik\n",
       "4  1110028F11Rik"
      ]
     },
     "execution_count": 5,
     "metadata": {},
     "output_type": "execute_result"
    }
   ],
   "source": [
    "df_gene=pd.read_csv(f'{cs.settings.data_path}/gene_names.txt')\n",
    "df_gene.head()"
   ]
  },
  {
   "cell_type": "code",
   "execution_count": 6,
   "id": "790b71c1",
   "metadata": {},
   "outputs": [
    {
     "data": {
      "text/html": [
       "<div>\n",
       "<style scoped>\n",
       "    .dataframe tbody tr th:only-of-type {\n",
       "        vertical-align: middle;\n",
       "    }\n",
       "\n",
       "    .dataframe tbody tr th {\n",
       "        vertical-align: top;\n",
       "    }\n",
       "\n",
       "    .dataframe thead th {\n",
       "        text-align: right;\n",
       "    }\n",
       "</style>\n",
       "<table border=\"1\" class=\"dataframe\">\n",
       "  <thead>\n",
       "    <tr style=\"text-align: right;\">\n",
       "      <th></th>\n",
       "      <th>time_info</th>\n",
       "    </tr>\n",
       "  </thead>\n",
       "  <tbody>\n",
       "    <tr>\n",
       "      <th>0</th>\n",
       "      <td>6</td>\n",
       "    </tr>\n",
       "    <tr>\n",
       "      <th>1</th>\n",
       "      <td>6</td>\n",
       "    </tr>\n",
       "    <tr>\n",
       "      <th>2</th>\n",
       "      <td>6</td>\n",
       "    </tr>\n",
       "    <tr>\n",
       "      <th>3</th>\n",
       "      <td>6</td>\n",
       "    </tr>\n",
       "    <tr>\n",
       "      <th>4</th>\n",
       "      <td>6</td>\n",
       "    </tr>\n",
       "  </tbody>\n",
       "</table>\n",
       "</div>"
      ],
      "text/plain": [
       "   time_info\n",
       "0          6\n",
       "1          6\n",
       "2          6\n",
       "3          6\n",
       "4          6"
      ]
     },
     "execution_count": 6,
     "metadata": {},
     "output_type": "execute_result"
    }
   ],
   "source": [
    "df_time=pd.read_csv(f'{cs.settings.data_path}/time_info.txt')\n",
    "df_time.head()"
   ]
  },
  {
   "cell_type": "code",
   "execution_count": 7,
   "id": "520154fc",
   "metadata": {},
   "outputs": [
    {
     "data": {
      "text/plain": [
       "<781x2481 sparse matrix of type '<class 'numpy.float64'>'\n",
       "\twith 225001 stored elements in COOrdinate format>"
      ]
     },
     "execution_count": 7,
     "metadata": {},
     "output_type": "execute_result"
    }
   ],
   "source": [
    "RNA_count_matrix=sio.mmread(f'{cs.settings.data_path}/gene_expression_count_matrx.mtx')\n",
    "RNA_count_matrix"
   ]
  },
  {
   "cell_type": "code",
   "execution_count": 8,
   "id": "13b62a0b",
   "metadata": {},
   "outputs": [
    {
     "data": {
      "text/plain": [
       "<781x339 sparse matrix of type '<class 'numpy.int64'>'\n",
       "\twith 781 stored elements in COOrdinate format>"
      ]
     },
     "execution_count": 8,
     "metadata": {},
     "output_type": "execute_result"
    }
   ],
   "source": [
    "X_clone=sio.mmread(f'{cs.settings.data_path}/cell_by_clone_matrx.mtx')\n",
    "X_clone"
   ]
  },
  {
   "cell_type": "code",
   "execution_count": 9,
   "id": "eb7412fc",
   "metadata": {},
   "outputs": [
    {
     "data": {
      "text/html": [
       "<div>\n",
       "<style scoped>\n",
       "    .dataframe tbody tr th:only-of-type {\n",
       "        vertical-align: middle;\n",
       "    }\n",
       "\n",
       "    .dataframe tbody tr th {\n",
       "        vertical-align: top;\n",
       "    }\n",
       "\n",
       "    .dataframe thead th {\n",
       "        text-align: right;\n",
       "    }\n",
       "</style>\n",
       "<table border=\"1\" class=\"dataframe\">\n",
       "  <thead>\n",
       "    <tr style=\"text-align: right;\">\n",
       "      <th></th>\n",
       "      <th>state_info</th>\n",
       "    </tr>\n",
       "  </thead>\n",
       "  <tbody>\n",
       "    <tr>\n",
       "      <th>0</th>\n",
       "      <td>Neutrophil</td>\n",
       "    </tr>\n",
       "    <tr>\n",
       "      <th>1</th>\n",
       "      <td>Baso</td>\n",
       "    </tr>\n",
       "    <tr>\n",
       "      <th>2</th>\n",
       "      <td>Monocyte</td>\n",
       "    </tr>\n",
       "    <tr>\n",
       "      <th>3</th>\n",
       "      <td>Monocyte</td>\n",
       "    </tr>\n",
       "    <tr>\n",
       "      <th>4</th>\n",
       "      <td>Baso</td>\n",
       "    </tr>\n",
       "  </tbody>\n",
       "</table>\n",
       "</div>"
      ],
      "text/plain": [
       "   state_info\n",
       "0  Neutrophil\n",
       "1        Baso\n",
       "2    Monocyte\n",
       "3    Monocyte\n",
       "4        Baso"
      ]
     },
     "execution_count": 9,
     "metadata": {},
     "output_type": "execute_result"
    }
   ],
   "source": [
    "df_state=pd.read_csv(f'{cs.settings.data_path}/state_info.txt')\n",
    "df_state.head()"
   ]
  },
  {
   "cell_type": "code",
   "execution_count": 10,
   "id": "9f4e3de1",
   "metadata": {},
   "outputs": [
    {
     "data": {
      "text/html": [
       "<div>\n",
       "<style scoped>\n",
       "    .dataframe tbody tr th:only-of-type {\n",
       "        vertical-align: middle;\n",
       "    }\n",
       "\n",
       "    .dataframe tbody tr th {\n",
       "        vertical-align: top;\n",
       "    }\n",
       "\n",
       "    .dataframe thead th {\n",
       "        text-align: right;\n",
       "    }\n",
       "</style>\n",
       "<table border=\"1\" class=\"dataframe\">\n",
       "  <thead>\n",
       "    <tr style=\"text-align: right;\">\n",
       "      <th></th>\n",
       "      <th>x</th>\n",
       "      <th>y</th>\n",
       "    </tr>\n",
       "  </thead>\n",
       "  <tbody>\n",
       "    <tr>\n",
       "      <th>0</th>\n",
       "      <td>1165.708</td>\n",
       "      <td>-2077.047</td>\n",
       "    </tr>\n",
       "    <tr>\n",
       "      <th>1</th>\n",
       "      <td>-980.871</td>\n",
       "      <td>-2055.629</td>\n",
       "    </tr>\n",
       "    <tr>\n",
       "      <th>2</th>\n",
       "      <td>2952.953</td>\n",
       "      <td>281.797</td>\n",
       "    </tr>\n",
       "    <tr>\n",
       "      <th>3</th>\n",
       "      <td>1314.821</td>\n",
       "      <td>-560.760</td>\n",
       "    </tr>\n",
       "    <tr>\n",
       "      <th>4</th>\n",
       "      <td>-1067.502</td>\n",
       "      <td>-1275.488</td>\n",
       "    </tr>\n",
       "  </tbody>\n",
       "</table>\n",
       "</div>"
      ],
      "text/plain": [
       "          x         y\n",
       "0  1165.708 -2077.047\n",
       "1  -980.871 -2055.629\n",
       "2  2952.953   281.797\n",
       "3  1314.821  -560.760\n",
       "4 -1067.502 -1275.488"
      ]
     },
     "execution_count": 10,
     "metadata": {},
     "output_type": "execute_result"
    }
   ],
   "source": [
    "df_X_emb=pd.read_csv(f'{cs.settings.data_path}/embedding.txt')\n",
    "df_X_emb.head()"
   ]
  },
  {
   "cell_type": "code",
   "execution_count": 11,
   "id": "bc24b7bb",
   "metadata": {},
   "outputs": [],
   "source": [
    "X_emb=np.array([df_X_emb['x'],df_X_emb['y']]).T"
   ]
  },
  {
   "cell_type": "markdown",
   "id": "2507ad4f",
   "metadata": {},
   "source": [
    "Now, initialize the adata object"
   ]
  },
  {
   "cell_type": "code",
   "execution_count": 12,
   "id": "375376f2",
   "metadata": {},
   "outputs": [
    {
     "name": "stdout",
     "output_type": "stream",
     "text": [
      "Create new anndata object\n",
      "WARNING: X_pca not provided. Downstream processing is needed to generate X_pca before computing the transition map.\n",
      "Time points with clonal info: ['2' '4' '6']\n",
      "WARNING: Default ascending order of time points are: ['2' '4' '6']. If not correct, run cs.hf.update_time_ordering for correction.\n",
      "WARNING: Please make sure that the count matrix adata.X is NOT log-transformed.\n"
     ]
    }
   ],
   "source": [
    "adata_orig=cs.pp.initialize_adata_object(X_state=RNA_count_matrix,\n",
    "    gene_names=df_gene['gene_names'],cell_names=df_cell_id['Cell_ID'],\n",
    "    time_info=df_time['time_info'],X_clone=X_clone,\n",
    "    state_info=df_state['state_info'], X_emb=X_emb,data_des='my_data')"
   ]
  },
  {
   "cell_type": "code",
   "execution_count": 13,
   "id": "288eb099",
   "metadata": {},
   "outputs": [
    {
     "data": {
      "text/plain": [
       "AnnData object with n_obs × n_vars = 781 × 2481\n",
       "    obs: 'time_info', 'state_info'\n",
       "    uns: 'data_des', 'time_ordering', 'clonal_time_points'\n",
       "    obsm: 'X_clone', 'X_emb'"
      ]
     },
     "execution_count": 13,
     "metadata": {},
     "output_type": "execute_result"
    }
   ],
   "source": [
    "adata_orig"
   ]
  },
  {
   "cell_type": "code",
   "execution_count": 14,
   "id": "64cfcca4",
   "metadata": {},
   "outputs": [
    {
     "data": {
      "image/png": "[encoded data removed]",
      "text/plain": [
       "<Figure size 288x252 with 1 Axes>"
      ]
     },
     "metadata": {},
     "output_type": "display_data"
    },
    {
     "data": {
      "text/plain": [
       "<Figure size 432x288 with 0 Axes>"
      ]
     },
     "metadata": {},
     "output_type": "display_data"
    }
   ],
   "source": [
    "cs.pl.embedding(adata_orig,color='state_info')"
   ]
  },
  {
   "cell_type": "markdown",
   "id": "31bb6958",
   "metadata": {},
   "source": [
    "## Import method B\n",
    "Assuming that the X_clone data is stored in a (cell_id, barcode_id) format"
   ]
  },
  {
   "cell_type": "markdown",
   "id": "fff19754",
   "metadata": {},
   "source": [
    "First, initialize the adata without concerning the clonal data"
   ]
  },
  {
   "cell_type": "code",
   "execution_count": 15,
   "id": "944838e2",
   "metadata": {},
   "outputs": [],
   "source": [
    "df_cell_id=pd.read_csv(f'{cs.settings.data_path}/cell_id.txt')\n",
    "df_gene=pd.read_csv(f'{cs.settings.data_path}/gene_names.txt')\n",
    "df_time=pd.read_csv(f'{cs.settings.data_path}/time_info.txt')\n",
    "RNA_count_matrix=sio.mmread(f'{cs.settings.data_path}/gene_expression_count_matrx.mtx')\n",
    "df_state=pd.read_csv(f'{cs.settings.data_path}/state_info.txt')\n",
    "df_X_emb=pd.read_csv(f'{cs.settings.data_path}/embedding.txt')\n",
    "X_emb=np.array([df_X_emb['x'],df_X_emb['y']]).T"
   ]
  },
  {
   "cell_type": "code",
   "execution_count": 16,
   "id": "994312c9",
   "metadata": {},
   "outputs": [
    {
     "name": "stdout",
     "output_type": "stream",
     "text": [
      "Create new anndata object\n",
      "WARNING: X_pca not provided. Downstream processing is needed to generate X_pca before computing the transition map.\n",
      "Time points with clonal info: []\n",
      "WARNING: Default ascending order of time points are: ['2' '4' '6']. If not correct, run cs.hf.update_time_ordering for correction.\n",
      "WARNING: Please make sure that the count matrix adata.X is NOT log-transformed.\n"
     ]
    }
   ],
   "source": [
    "adata_orig=cs.pp.initialize_adata_object(X_state=RNA_count_matrix,\n",
    "    gene_names=df_gene['gene_names'],cell_names=df_cell_id['Cell_ID'],\n",
    "    time_info=df_time['time_info'],\n",
    "    state_info=df_state['state_info'], X_emb=X_emb,data_des='my_data')"
   ]
  },
  {
   "cell_type": "markdown",
   "id": "8b45ac7c",
   "metadata": {},
   "source": [
    "Now, load the clonal data. Here, we start with a table of (cell_id, clone_id) pair. The cell_id does not need to be ranked. It should match the cell_id in the ``adata_orig.obs_names``"
   ]
  },
  {
   "cell_type": "code",
   "execution_count": 17,
   "id": "93789dbd",
   "metadata": {},
   "outputs": [
    {
     "data": {
      "text/html": [
       "<div>\n",
       "<style scoped>\n",
       "    .dataframe tbody tr th:only-of-type {\n",
       "        vertical-align: middle;\n",
       "    }\n",
       "\n",
       "    .dataframe tbody tr th {\n",
       "        vertical-align: top;\n",
       "    }\n",
       "\n",
       "    .dataframe thead th {\n",
       "        text-align: right;\n",
       "    }\n",
       "</style>\n",
       "<table border=\"1\" class=\"dataframe\">\n",
       "  <thead>\n",
       "    <tr style=\"text-align: right;\">\n",
       "      <th></th>\n",
       "      <th>Cell_ID</th>\n",
       "      <th>Clone_ID</th>\n",
       "    </tr>\n",
       "  </thead>\n",
       "  <tbody>\n",
       "    <tr>\n",
       "      <th>0</th>\n",
       "      <td>cell_0</td>\n",
       "      <td>clone_275</td>\n",
       "    </tr>\n",
       "    <tr>\n",
       "      <th>1</th>\n",
       "      <td>cell_1</td>\n",
       "      <td>clone_329</td>\n",
       "    </tr>\n",
       "    <tr>\n",
       "      <th>2</th>\n",
       "      <td>cell_2</td>\n",
       "      <td>clone_56</td>\n",
       "    </tr>\n",
       "    <tr>\n",
       "      <th>3</th>\n",
       "      <td>cell_3</td>\n",
       "      <td>clone_236</td>\n",
       "    </tr>\n",
       "    <tr>\n",
       "      <th>4</th>\n",
       "      <td>cell_4</td>\n",
       "      <td>clone_213</td>\n",
       "    </tr>\n",
       "    <tr>\n",
       "      <th>...</th>\n",
       "      <td>...</td>\n",
       "      <td>...</td>\n",
       "    </tr>\n",
       "    <tr>\n",
       "      <th>776</th>\n",
       "      <td>cell_776</td>\n",
       "      <td>clone_196</td>\n",
       "    </tr>\n",
       "    <tr>\n",
       "      <th>777</th>\n",
       "      <td>cell_777</td>\n",
       "      <td>clone_239</td>\n",
       "    </tr>\n",
       "    <tr>\n",
       "      <th>778</th>\n",
       "      <td>cell_778</td>\n",
       "      <td>clone_259</td>\n",
       "    </tr>\n",
       "    <tr>\n",
       "      <th>779</th>\n",
       "      <td>cell_779</td>\n",
       "      <td>clone_217</td>\n",
       "    </tr>\n",
       "    <tr>\n",
       "      <th>780</th>\n",
       "      <td>cell_780</td>\n",
       "      <td>clone_259</td>\n",
       "    </tr>\n",
       "  </tbody>\n",
       "</table>\n",
       "<p>781 rows × 2 columns</p>\n",
       "</div>"
      ],
      "text/plain": [
       "      Cell_ID   Clone_ID\n",
       "0      cell_0  clone_275\n",
       "1      cell_1  clone_329\n",
       "2      cell_2   clone_56\n",
       "3      cell_3  clone_236\n",
       "4      cell_4  clone_213\n",
       "..        ...        ...\n",
       "776  cell_776  clone_196\n",
       "777  cell_777  clone_239\n",
       "778  cell_778  clone_259\n",
       "779  cell_779  clone_217\n",
       "780  cell_780  clone_259\n",
       "\n",
       "[781 rows x 2 columns]"
      ]
     },
     "execution_count": 17,
     "metadata": {},
     "output_type": "execute_result"
    }
   ],
   "source": [
    "df_X_clone=pd.read_csv(f'{cs.settings.data_path}/clonal_data_in_table_format.txt')\n",
    "df_X_clone"
   ]
  },
  {
   "cell_type": "code",
   "execution_count": 18,
   "id": "0f74615f",
   "metadata": {},
   "outputs": [
    {
     "data": {
      "text/plain": [
       "Index(['cell_10', 'cell_13', 'cell_18', 'cell_32', 'cell_70', 'cell_80',\n",
       "       'cell_90', 'cell_97', 'cell_108', 'cell_117',\n",
       "       ...\n",
       "       'cell_7389', 'cell_7392', 'cell_7402', 'cell_7407', 'cell_7409',\n",
       "       'cell_7417', 'cell_7423', 'cell_7435', 'cell_7436', 'cell_7437'],\n",
       "      dtype='object', length=781)"
      ]
     },
     "execution_count": 18,
     "metadata": {},
     "output_type": "execute_result"
    }
   ],
   "source": [
    "adata_orig.obs_names"
   ]
  },
  {
   "cell_type": "code",
   "execution_count": 19,
   "id": "d66e3992",
   "metadata": {},
   "outputs": [
    {
     "name": "stdout",
     "output_type": "stream",
     "text": [
      "Total number of barcode entries: 781\n"
     ]
    }
   ],
   "source": [
    "cs.pp.get_X_clone(adata_orig,df_X_clone['Cell_ID'],df_X_clone['Clone_ID'])"
   ]
  },
  {
   "cell_type": "code",
   "execution_count": 20,
   "id": "ea2f8618",
   "metadata": {},
   "outputs": [
    {
     "data": {
      "text/plain": [
       "AnnData object with n_obs × n_vars = 781 × 2481\n",
       "    obs: 'time_info', 'state_info'\n",
       "    uns: 'data_des', 'time_ordering', 'clonal_time_points', 'clone_id'\n",
       "    obsm: 'X_clone', 'X_emb'"
      ]
     },
     "execution_count": 20,
     "metadata": {},
     "output_type": "execute_result"
    }
   ],
   "source": [
    "adata_orig"
   ]
  },
  {
   "cell_type": "code",
   "execution_count": 21,
   "id": "6f07dfd5",
   "metadata": {},
   "outputs": [
    {
     "data": {
      "image/png": "[encoded data removed]",
      "text/plain": [
       "<Figure size 288x252 with 1 Axes>"
      ]
     },
     "metadata": {},
     "output_type": "display_data"
    },
    {
     "data": {
      "text/plain": [
       "<Figure size 432x288 with 0 Axes>"
      ]
     },
     "metadata": {},
     "output_type": "display_data"
    }
   ],
   "source": [
    "cs.pl.embedding(adata_orig,color='state_info')"
   ]
  }
 ],
 "metadata": {
  "kernelspec": {
   "display_name": "no_cospar",
   "language": "python",
   "name": "no_cospar"
  },
  "language_info": {
   "codemirror_mode": {
    "name": "ipython",
    "version": 3
   },
   "file_extension": ".py",
   "mimetype": "text/x-python",
   "name": "python",
   "nbconvert_exporter": "python",
   "pygments_lexer": "ipython3",
   "version": "3.6.13"
  }
 },
 "nbformat": 4,
 "nbformat_minor": 5
}
